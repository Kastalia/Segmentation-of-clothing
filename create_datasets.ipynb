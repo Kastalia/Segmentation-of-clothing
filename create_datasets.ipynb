{
 "cells": [
  {
   "cell_type": "code",
   "execution_count": 1,
   "metadata": {
    "pycharm": {
     "name": "#%%\n"
    }
   },
   "outputs": [],
   "source": [
    "import os, sys, json\n",
    "import cv2\n",
    "import numpy as np\n",
    "import matplotlib.pyplot as plt\n",
    "from utils import *\n",
    "from tqdm.notebook import tqdm\n"
   ]
  },
  {
   "cell_type": "raw",
   "metadata": {},
   "source": [
    "# Windows\n",
    "# input\n",
    "data_path = \"C:\\\\Users\\\\Lisen\\\\Desktop\\\\CV\\\\dataset\\\\train\\\\train\\\\image\\\\\"\n",
    "info_path = \"C:\\\\Users\\\\Lisen\\\\Desktop\\\\CV\\\\dataset\\\\train\\\\train\\\\annos\\\\\"\n",
    "# output\n",
    "saveto = \"C:\\\\Users\\\\Lisen\\\\Desktop\\\\CV\\\\dataset\\\\mask\\\\\"\n",
    "segmentation_path = \"C:\\\\Users\\\\Lisen\\\\Desktop\\\\CV\\\\dataset\\\\segmentation.json\""
   ]
  },
  {
   "cell_type": "code",
   "execution_count": 2,
   "metadata": {
    "pycharm": {
     "name": "#%%\n"
    }
   },
   "outputs": [],
   "source": [
    "# Unix\n",
    "# input\n",
    "data_path = \"/home/mayer/LocalRepository/JupyterProjects/DeepFashion2/dataset/image\"\n",
    "info_path = \"/home/mayer/LocalRepository/JupyterProjects/DeepFashion2/dataset/annos\"\n",
    "# output\n",
    "saveto = \"/home/mayer/LocalRepository/JupyterProjects/DeepFashion2/dataset/masks\"\n",
    "segmentation_path = \"/home/mayer/LocalRepository/JupyterProjects/DeepFashion2/dataset/segmentation.json\"\n",
    "#train_rec_file = os.path.join(data_path, 'train_recognition.json')\n",
    "#train_rec_file_ext = os.path.join(data_path, 'train_recognitionExt.json')"
   ]
  },
  {
   "cell_type": "markdown",
   "metadata": {},
   "source": [
    "#### Generate segmentation dataset"
   ]
  },
  {
   "cell_type": "code",
   "execution_count": 3,
   "metadata": {},
   "outputs": [
    {
     "data": {
      "application/vnd.jupyter.widget-view+json": {
       "model_id": "33c5bb8c518c474ba5292a6940be7192",
       "version_major": 2,
       "version_minor": 0
      },
      "text/plain": [
       "HBox(children=(FloatProgress(value=0.0, description='GENERATE MASKS', max=8545.0, style=ProgressStyle(descript…"
      ]
     },
     "metadata": {},
     "output_type": "display_data"
    },
    {
     "name": "stdout",
     "output_type": "stream",
     "text": [
      "\n"
     ]
    }
   ],
   "source": [
    "color_scheme = {1:(0,0,127),2:(0,0,255),\n",
    "                3:(0,127,0),4:(0,127,127),5:(0,127,255),\n",
    "                6:(0,255,0),7:(0,255,127),8:(0,255,255),\n",
    "                9:(127,0,0),10:(127,0,127),11:(127,0,255),\n",
    "                12:(127,127,0),13:(127,127,255)}\n",
    "infosegmentation = []\n",
    "\n",
    "for name in tqdm(os.listdir(data_path),desc=\"GENERATE MASKS\"):\n",
    "    id, ext = name.split(\".\")  \n",
    "    with open(os.path.join(info_path, id+\".json\")) as rf:\n",
    "        info = json.load(rf)\n",
    "    image_path = os.path.join(data_path, name)\n",
    "    #mask_path = os.path.join(data_path, id+\"_mask.\"+ext)\n",
    "    #image_savedebug = os.path.join(saveto, id+\"_imgwithmask.\"+ext) \n",
    "    mask_path = os.path.join(saveto, id+\"_mask.\"+ext)  \n",
    "    infoimg = { \"file\": image_path, \"mask\": mask_path,\"cloth\":[]}    \n",
    "    \n",
    "    img = cv2.imread(image_path)\n",
    "    if img is None:\n",
    "        continue\n",
    "    mask = np.zeros(shape=img.shape, dtype=np.uint8)    \n",
    "    # for all clothes\n",
    "    index=1\n",
    "    item = \"item\"+str(index)\n",
    "    \n",
    "    # debug\n",
    "    #print(\"\\n\\n\\n\\n\\n\\n\\n\"+name)\n",
    "    #for key in info:\n",
    "    #    print(\"\\n\\n\"+key+\":\")\n",
    "    #    print(info[key])\n",
    "    ###\n",
    "    \n",
    "    while(info.get(item)!=None):\n",
    "        # for all part of cloth\n",
    "        infoitem = {}\n",
    "        category = info[item][\"category_id\"]\n",
    "        infoitem[\"category_id\"] = category\n",
    "        infoitem[\"areas\"]=[]\n",
    "        for area in info[item][\"segmentation\"]:\n",
    "            # теряю точность тк cv2 не хочет работать с флотами\n",
    "            area = np.array(list(map(int,area))).reshape(-1,2)\n",
    "            #print(area)\n",
    "            #cv2.fillConvexPoly(mask, area, color_scheme[category])     \n",
    "            #test =  np.array([[100,100],[100,200],[200,200],[150,150],[190,160],[200,100],[100,100]])#квадраты\n",
    "            #cv2.polylines(mask, np.int32([area]),True, color_scheme[category], 1)\n",
    "            #cv2.polylines(mask, [area] ,True, color_scheme[category], 1)\n",
    "            cv2.fillPoly(mask, [area], color_scheme[category])\n",
    "            #cv2.fillPoly(img, [area], color_scheme[category])\n",
    "            infoitem[\"areas\"].append(area.tolist())         \n",
    "            \n",
    "        infoimg[\"cloth\"].append(infoitem)\n",
    "        index+=1\n",
    "        item = \"item\"+str(index)\n",
    "        \n",
    "    cv2.imwrite(mask_path, mask)  \n",
    "    #cv2.imwrite(image_savedebug, img)  \n",
    "    infosegmentation.append(infoimg)"
   ]
  },
  {
   "cell_type": "code",
   "execution_count": null,
   "metadata": {},
   "outputs": [],
   "source": []
  },
  {
   "cell_type": "code",
   "execution_count": 4,
   "metadata": {},
   "outputs": [],
   "source": [
    "with open(segmentation_path, 'w') as wf:\n",
    "    json.dump(infosegmentation, wf)"
   ]
  },
  {
   "cell_type": "code",
   "execution_count": null,
   "metadata": {},
   "outputs": [],
   "source": []
  }
 ],
 "metadata": {
  "kernelspec": {
   "display_name": "Python 3",
   "language": "python",
   "name": "python3"
  },
  "language_info": {
   "codemirror_mode": {
    "name": "ipython",
    "version": 3
   },
   "file_extension": ".py",
   "mimetype": "text/x-python",
   "name": "python",
   "nbconvert_exporter": "python",
   "pygments_lexer": "ipython3",
   "version": "3.6.9"
  }
 },
 "nbformat": 4,
 "nbformat_minor": 1
}
